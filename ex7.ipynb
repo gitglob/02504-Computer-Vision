{
 "cells": [
  {
   "cell_type": "code",
   "execution_count": 734,
   "metadata": {},
   "outputs": [],
   "source": [
    "import numpy as np\n",
    "import matplotlib.pyplot as plt"
   ]
  },
  {
   "cell_type": "code",
   "execution_count": 735,
   "metadata": {},
   "outputs": [],
   "source": [
    "def test_points(n_in, n_out):\n",
    "    a = (np.random.rand(n_in)-.5)*10\n",
    "    b = np.vstack((a, a*.5+np.random.randn(n_in)*.25))\n",
    "    points = np.hstack((b, 2*np.random.randn(2, n_out)))\n",
    "    return np.random.permutation(points.T).T"
   ]
  },
  {
   "cell_type": "code",
   "execution_count": 736,
   "metadata": {},
   "outputs": [
    {
     "data": {
      "text/plain": [
       "(2, 200)"
      ]
     },
     "execution_count": 736,
     "metadata": {},
     "output_type": "execute_result"
    }
   ],
   "source": [
    "X = test_points(100,100)\n",
    "X.shape"
   ]
  },
  {
   "cell_type": "code",
   "execution_count": 737,
   "metadata": {},
   "outputs": [],
   "source": [
    "def line_from_points(P, Q):\n",
    "    rise = Q[1] - P[1]\n",
    "    run = Q[0] - P[0]\n",
    "    if run == 0:\n",
    "        return None\n",
    "    m = rise/run\n",
    "    b = P[1] - m*P[0]\n",
    "    return np.array([1,m,b])"
   ]
  },
  {
   "cell_type": "code",
   "execution_count": 738,
   "metadata": {},
   "outputs": [
    {
     "data": {
      "text/plain": [
       "array([ 1.        ,  0.38513414, -0.58693784])"
      ]
     },
     "execution_count": 738,
     "metadata": {},
     "output_type": "execute_result"
    }
   ],
   "source": [
    "coeff = line_from_points(X[:,0],X[:,1])\n",
    "coeff"
   ]
  },
  {
   "cell_type": "code",
   "execution_count": 739,
   "metadata": {},
   "outputs": [
    {
     "data": {
      "text/plain": [
       "(array([-0.39503476, -0.73907921]), array([-4.44610768, -2.29928569]))"
      ]
     },
     "execution_count": 739,
     "metadata": {},
     "output_type": "execute_result"
    },
    {
     "data": {
      "image/png": "[encoded data removed]",
      "text/plain": [
       "<Figure size 432x288 with 1 Axes>"
      ]
     },
     "metadata": {
      "needs_background": "light"
     },
     "output_type": "display_data"
    }
   ],
   "source": [
    "x = np.linspace(-5.0,5.0,1000)\n",
    "_,A,C = coeff\n",
    "y = A*x + C\n",
    "plt.figure(1)\n",
    "plt.plot(x,y)\n",
    "plt.scatter(X[:,0][0],X[:,0][1])\n",
    "plt.scatter(X[:,1][0],X[:,1][1])\n",
    "plt.scatter(2.1,-1.2)\n",
    "X[:,0],X[:,1]"
   ]
  },
  {
   "cell_type": "code",
   "execution_count": 740,
   "metadata": {},
   "outputs": [],
   "source": [
    "def dist_to_line(coefficients,point,check=True):\n",
    "    l = coefficients.reshape(-1,1)\n",
    "    l[:2] = l[:2] / np.sqrt((l[:2]**2).sum())\n",
    "    assert ((l[:2]**2).sum() - 1) < 1e-8\n",
    "    # d = abs(l.T @ point)\n",
    "    B,A,C = l\n",
    "    form = abs(B*point[1] + A*point[0] + C)/np.sqrt(A**2+B**2)\n",
    "    # if check: \n",
    "    #     form = abs(B*point[1] + A*point[0] + C)/np.sqrt(A**2+B**2)\n",
    "    #     B,A,C = l\n",
    "    #     # assert d - form < 1e-8, [d,form,point]\n",
    "    return form"
   ]
  },
  {
   "cell_type": "code",
   "execution_count": 741,
   "metadata": {},
   "outputs": [
    {
     "data": {
      "text/plain": [
       "array([0.95201624])"
      ]
     },
     "execution_count": 741,
     "metadata": {},
     "output_type": "execute_result"
    }
   ],
   "source": [
    "dist_to_line(coeff.copy(),np.array([2.1,-1.2,1]))"
   ]
  },
  {
   "cell_type": "code",
   "execution_count": 742,
   "metadata": {},
   "outputs": [],
   "source": [
    "def count_inliers(dataset,eps,line):\n",
    "    inliers = 0\n",
    "    if dataset.shape[0] == 2:\n",
    "        dataset = np.append(X,np.ones((1,X.shape[1])),axis=0)\n",
    "    for i in range(dataset.shape[1]):\n",
    "        p = dataset[:,i]\n",
    "        d = dist_to_line(line,p)\n",
    "        if d < eps:\n",
    "            inliers += 1\n",
    "    return inliers"
   ]
  },
  {
   "cell_type": "code",
   "execution_count": 743,
   "metadata": {},
   "outputs": [
    {
     "data": {
      "text/plain": [
       "6"
      ]
     },
     "execution_count": 743,
     "metadata": {},
     "output_type": "execute_result"
    }
   ],
   "source": [
    "count_inliers(X.copy(),.1,coeff.copy())"
   ]
  },
  {
   "cell_type": "code",
   "execution_count": 744,
   "metadata": {},
   "outputs": [],
   "source": [
    "def random2p(X):\n",
    "    return X[:,np.random.choice(range(X.shape[1]), 2)].copy()"
   ]
  },
  {
   "cell_type": "code",
   "execution_count": 745,
   "metadata": {},
   "outputs": [],
   "source": [
    "def ransac(data):\n",
    "    eps = .5\n",
    "    max_in = 0\n",
    "    best_line = None\n",
    "    # plt.figure(1)\n",
    "    for _ in range(500):\n",
    "        sample = random2p(data)\n",
    "        # plt.scatter(sample[:,0][0],sample[:,0][1],color='r')\n",
    "        # plt.scatter(sample[:,1][0],sample[:,1][1],color='g')\n",
    "        coefficients = line_from_points(sample[:,1],sample[:,0])\n",
    "        if coefficients is None:\n",
    "            continue\n",
    "        # _,A,C = coefficients\n",
    "        # y = A*x + C\n",
    "        # plt.plot(x,y)\n",
    "        inliers = count_inliers(data,eps,coefficients.copy())\n",
    "        if inliers > max_in:\n",
    "            max_in = inliers\n",
    "            best_line = coefficients\n",
    "            print(best_line,inliers,sample)\n",
    "    return best_line"
   ]
  },
  {
   "cell_type": "code",
   "execution_count": 746,
   "metadata": {},
   "outputs": [
    {
     "name": "stdout",
     "output_type": "stream",
     "text": [
      "[ 1.         -0.8122577   2.78969475] 5 [[-1.03178298  2.13299082]\n",
      " [ 3.62776842  1.05715654]]\n",
      "[1.         0.41743446 0.4642188 ] 28 [[1.34153793 2.99403218]\n",
      " [1.02422296 1.71403102]]\n",
      "[1.         0.56894516 0.27575479] 29 [[-2.18596894 -0.01652461]\n",
      " [-0.96794166  0.26635319]]\n",
      "[ 1.          0.18864546 -1.75581942] 38 [[-4.83254578  0.75834568]\n",
      " [-2.66745723 -1.61276095]]\n",
      "[ 1.         -0.00683797  1.99880321] 39 [[0.13644578 3.85859147]\n",
      " [1.9978702  1.97241826]]\n",
      "[ 1.          0.48211236 -0.27412718] 40 [[-3.4138519  -2.97659657]\n",
      " [-1.91998737 -1.70918117]]\n",
      "[ 1.         -0.13096308 -0.55394118] 60 [[-4.91892961  1.62326926]\n",
      " [ 0.09025699 -0.76652952]]\n",
      "[ 1.         -0.49594105 -0.17215789] 116 [[ 2.33880844 -0.25137762]\n",
      " [-1.33206901 -0.04748941]]\n"
     ]
    },
    {
     "data": {
      "text/plain": [
       "([<matplotlib.lines.Line2D at 0x21a56d29580>],\n",
       " array([ 1.        , -0.49594105, -0.17215789]))"
      ]
     },
     "execution_count": 746,
     "metadata": {},
     "output_type": "execute_result"
    },
    {
     "data": {
      "image/png": "[encoded data removed]",
      "text/plain": [
       "<Figure size 432x288 with 1 Axes>"
      ]
     },
     "metadata": {
      "needs_background": "light"
     },
     "output_type": "display_data"
    }
   ],
   "source": [
    "plt.figure(1)\n",
    "plt.scatter(X[0,:],X[1,:])\n",
    "lineline = ransac(X)\n",
    "x = np.linspace(-5.0,5.0,100)\n",
    "_,A,C = lineline\n",
    "y = A*x + C\n",
    "plt.plot(y,x), lineline"
   ]
  },
  {
   "cell_type": "code",
   "execution_count": 747,
   "metadata": {},
   "outputs": [],
   "source": [
    "def pca_line(x): # assumes x is a (2 x n) array of points\n",
    "    d = np.cov(x)[:, 0]\n",
    "    d /= np.linalg.norm(d)\n",
    "    l = [d[1], -d[0]]\n",
    "    l.append(-(l@x.mean(1)))\n",
    "    return l"
   ]
  },
  {
   "cell_type": "code",
   "execution_count": 748,
   "metadata": {},
   "outputs": [
    {
     "data": {
      "text/plain": [
       "([0.3047519357403679, -0.9524317601080399, 0.03304372863986051],\n",
       " array([ 1.        , -0.49594105, -0.17215789]))"
      ]
     },
     "execution_count": 748,
     "metadata": {},
     "output_type": "execute_result"
    }
   ],
   "source": [
    "pca_line(X),lineline"
   ]
  }
 ],
 "metadata": {
  "interpreter": {
   "hash": "510432fe9beb5f66c8c9462b46be88afb378fe4e0dded6df6e763ca8ae4ac5cc"
  },
  "kernelspec": {
   "display_name": "Python 3.8.10 64-bit",
   "language": "python",
   "name": "python3"
  },
  "language_info": {
   "codemirror_mode": {
    "name": "ipython",
    "version": 3
   },
   "file_extension": ".py",
   "mimetype": "text/x-python",
   "name": "python",
   "nbconvert_exporter": "python",
   "pygments_lexer": "ipython3",
   "version": "3.8.10"
  },
  "orig_nbformat": 4
 },
 "nbformat": 4,
 "nbformat_minor": 2
}
