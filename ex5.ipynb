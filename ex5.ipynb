{
 "cells": [
  {
   "cell_type": "code",
   "execution_count": 1,
   "metadata": {},
   "outputs": [],
   "source": [
    "import numpy as np\n",
    "from helpers import *\n",
    "import matplotlib.pyplot as plt\n",
    "import cv2\n",
    "import scipy.optimize"
   ]
  },
  {
   "cell_type": "code",
   "execution_count": 2,
   "metadata": {},
   "outputs": [],
   "source": [
    "t1 = np.array([[0, 0, 1]]).T\n",
    "K1,T1,P1 = make_camera(700,600,400,np.eye(3),t1)\n",
    "t2 = np.array([[0, 0, 20]]).T\n",
    "K2,T2,P2 = make_camera(700,600,400,np.eye(3),t2)"
   ]
  },
  {
   "cell_type": "code",
   "execution_count": 3,
   "metadata": {},
   "outputs": [
    {
     "data": {
      "text/plain": [
       "(array([[1.3e+03, 1.1e+03, 1.0e+00]]), array([[635., 435.,   1.]]))"
      ]
     },
     "execution_count": 3,
     "metadata": {},
     "output_type": "execute_result"
    }
   ],
   "source": [
    "Q = np.array([[1, 1, 0, 1]]).T\n",
    "q1 = shom((P1@Q).T)\n",
    "q2 = shom((P2@Q).T)\n",
    "q1,q2"
   ]
  },
  {
   "cell_type": "code",
   "execution_count": 4,
   "metadata": {},
   "outputs": [
    {
     "data": {
      "text/plain": [
       "True"
      ]
     },
     "execution_count": 4,
     "metadata": {},
     "output_type": "execute_result"
    }
   ],
   "source": [
    "Ps = [P1,P2]\n",
    "Qs = np.concatenate([q1,q2],axis=0)\n",
    "((triangulate(Qs,Ps) - Q.T) < 1e-8).all()"
   ]
  },
  {
   "cell_type": "code",
   "execution_count": 5,
   "metadata": {},
   "outputs": [
    {
     "data": {
      "text/plain": [
       "(13.43301898819186, 0.6717725840473774)"
      ]
     },
     "execution_count": 5,
     "metadata": {},
     "output_type": "execute_result"
    }
   ],
   "source": [
    "q1_tilda = q1 + np.array([[1., -1., 0.]])\n",
    "q2_tilda = q2 + np.array([[1., -1., 0.]])\n",
    "Qs_tilda = np.concatenate([q1_tilda,q2_tilda],axis=0)\n",
    "Q_tilda = triangulate(Qs_tilda,Ps)\n",
    "rep_q1_tilda = shom(P1 @ Q_tilda.T)\n",
    "rep_q2_tilda = shom(P2 @ Q_tilda.T)\n",
    "# this is how far the reprojected point is from the originally observed\n",
    "np.linalg.norm(rep_q1_tilda - q1_tilda), np.linalg.norm(rep_q2_tilda - q2_tilda)"
   ]
  },
  {
   "cell_type": "code",
   "execution_count": 6,
   "metadata": {},
   "outputs": [
    {
     "data": {
      "text/plain": [
       "2.449730193515837"
      ]
     },
     "execution_count": 6,
     "metadata": {},
     "output_type": "execute_result"
    }
   ],
   "source": [
    "# 3D error of noisy point in the images\n",
    "np.linalg.norm(Q_tilda - Q)"
   ]
  },
  {
   "cell_type": "code",
   "execution_count": 7,
   "metadata": {},
   "outputs": [
    {
     "data": {
      "text/plain": [
       "(0.06701027274072646, 1.3401508667025752, 2.4494758670155377)"
      ]
     },
     "execution_count": 7,
     "metadata": {},
     "output_type": "execute_result"
    }
   ],
   "source": [
    "Q_hat = shom(triangulate_nonlin(Qs_tilda,Ps))\n",
    "rep_q1_hat = shom(P1 @ Q_hat.T)\n",
    "rep_q2_hat = shom(P2 @ Q_hat.T)\n",
    "# this is how far the reprojected point is from the originally observed\n",
    "np.linalg.norm(rep_q1_hat - q1_tilda), np.linalg.norm(rep_q2_hat - q2_tilda), np.linalg.norm(Q_hat - Q)"
   ]
  }
 ],
 "metadata": {
  "interpreter": {
   "hash": "510432fe9beb5f66c8c9462b46be88afb378fe4e0dded6df6e763ca8ae4ac5cc"
  },
  "kernelspec": {
   "display_name": "Python 3.8.10 64-bit",
   "language": "python",
   "name": "python3"
  },
  "language_info": {
   "codemirror_mode": {
    "name": "ipython",
    "version": 3
   },
   "file_extension": ".py",
   "mimetype": "text/x-python",
   "name": "python",
   "nbconvert_exporter": "python",
   "pygments_lexer": "ipython3",
   "version": "3.8.10"
  },
  "orig_nbformat": 4
 },
 "nbformat": 4,
 "nbformat_minor": 2
}
