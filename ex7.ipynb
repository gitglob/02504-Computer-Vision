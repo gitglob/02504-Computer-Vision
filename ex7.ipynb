{
 "cells": [
  {
   "cell_type": "code",
   "execution_count": 142,
   "metadata": {},
   "outputs": [],
   "source": [
    "import numpy as np\n",
    "import matplotlib.pyplot as plt"
   ]
  },
  {
   "cell_type": "code",
   "execution_count": 143,
   "metadata": {},
   "outputs": [],
   "source": [
    "def test_points(n_in, n_out):\n",
    "    a = (np.random.rand(n_in)-.5)*10\n",
    "    b = np.vstack((a, a*.5+np.random.randn(n_in)*.25))\n",
    "    points = np.hstack((b, 2*np.random.randn(2, n_out)))\n",
    "    return np.random.permutation(points.T).T"
   ]
  },
  {
   "cell_type": "code",
   "execution_count": 144,
   "metadata": {},
   "outputs": [
    {
     "data": {
      "text/plain": [
       "(2, 200)"
      ]
     },
     "execution_count": 144,
     "metadata": {},
     "output_type": "execute_result"
    }
   ],
   "source": [
    "X = test_points(100,100)\n",
    "X.shape"
   ]
  },
  {
   "cell_type": "code",
   "execution_count": 145,
   "metadata": {},
   "outputs": [],
   "source": [
    "def line_from_points(P, Q):\n",
    "    rise = Q[1] - P[1]\n",
    "    run = Q[0] - P[0]\n",
    "    if run == 0:\n",
    "        return None\n",
    "    m = rise/run\n",
    "    b = P[1] - m*P[0]\n",
    "    return np.array([m,1,b])"
   ]
  },
  {
   "cell_type": "code",
   "execution_count": 146,
   "metadata": {},
   "outputs": [
    {
     "data": {
      "text/plain": [
       "array([-0.40503678,  1.        ,  3.11475694])"
      ]
     },
     "execution_count": 146,
     "metadata": {},
     "output_type": "execute_result"
    }
   ],
   "source": [
    "coeff = line_from_points(X[:,0],X[:,1])\n",
    "coeff"
   ]
  },
  {
   "cell_type": "code",
   "execution_count": 147,
   "metadata": {},
   "outputs": [
    {
     "data": {
      "text/plain": [
       "<matplotlib.collections.PathCollection at 0x20a7a0963d0>"
      ]
     },
     "execution_count": 147,
     "metadata": {},
     "output_type": "execute_result"
    },
    {
     "data": {
      "image/png": "[encoded data removed]",
      "text/plain": [
       "<Figure size 432x288 with 1 Axes>"
      ]
     },
     "metadata": {
      "needs_background": "light"
     },
     "output_type": "display_data"
    }
   ],
   "source": [
    "x = np.linspace(-5.0,5.0,1000)\n",
    "# plt.scatter(X[0,:],X[1,:])\n",
    "A,B,C = coeff\n",
    "y = A*x + C\n",
    "plt.figure(1)\n",
    "plt.plot(x,y)\n",
    "plt.scatter(X[:,0][0],X[:,0][1])\n",
    "plt.scatter(X[:,1][0],X[:,1][1])\n",
    "plt.scatter(2.1,-1.2)"
   ]
  },
  {
   "cell_type": "code",
   "execution_count": 148,
   "metadata": {},
   "outputs": [],
   "source": [
    "def dist_to_line(coefficients,point):\n",
    "    l = coefficients.reshape(-1,1)\n",
    "    return abs(l.T @ point) / (point[2] * np.sqrt(l[0]**2 + l[1]**2))"
   ]
  },
  {
   "cell_type": "code",
   "execution_count": 149,
   "metadata": {},
   "outputs": [
    {
     "data": {
      "text/plain": [
       "array([3.21080331])"
      ]
     },
     "execution_count": 149,
     "metadata": {},
     "output_type": "execute_result"
    }
   ],
   "source": [
    "lined = np.array([-A, B, -C])\n",
    "dist_to_line(lined,np.array([2.1,-1.2,1]))"
   ]
  },
  {
   "cell_type": "code",
   "execution_count": 150,
   "metadata": {},
   "outputs": [],
   "source": [
    "def count_inliers(dataset,eps,line):\n",
    "    inliers = 0\n",
    "    if dataset.shape[0] == 2:\n",
    "        dataset = np.append(X,np.ones((1,X.shape[1])),axis=0)\n",
    "    for i in range(dataset.shape[1]):\n",
    "        p = dataset[:,i]\n",
    "        A,B,C = line\n",
    "        line = np.array([-A, B, -C])\n",
    "        d = dist_to_line(line,p)\n",
    "        if d < eps:\n",
    "            inliers += 1\n",
    "    return inliers"
   ]
  },
  {
   "cell_type": "code",
   "execution_count": 151,
   "metadata": {},
   "outputs": [
    {
     "data": {
      "text/plain": [
       "4"
      ]
     },
     "execution_count": 151,
     "metadata": {},
     "output_type": "execute_result"
    }
   ],
   "source": [
    "count_inliers(X.copy(),.1,coeff.copy())"
   ]
  },
  {
   "cell_type": "code",
   "execution_count": 152,
   "metadata": {},
   "outputs": [],
   "source": [
    "def random2p(X):\n",
    "    return X[:,np.random.choice(range(X.shape[1]), 2)].copy()"
   ]
  },
  {
   "cell_type": "code",
   "execution_count": 167,
   "metadata": {},
   "outputs": [],
   "source": [
    "def ransac(data, debug=False, eps=.5):\n",
    "    max_in = 0\n",
    "    best_line = None\n",
    "    for _ in range(50):\n",
    "        sample = random2p(data)\n",
    "        coefficients = line_from_points(sample[:,1],sample[:,0])\n",
    "        if coefficients is None:\n",
    "            continue\n",
    "        inliers = count_inliers(data,eps,coefficients.copy())\n",
    "        if inliers > max_in:\n",
    "            max_in = inliers\n",
    "            best_line = coefficients\n",
    "            if debug: print(best_line,inliers,sample)\n",
    "    return best_line"
   ]
  },
  {
   "cell_type": "code",
   "execution_count": 170,
   "metadata": {},
   "outputs": [
    {
     "data": {
      "text/plain": [
       "([<matplotlib.lines.Line2D at 0x20a7a39f9a0>],\n",
       " array([ 0.43137959,  1.        , -0.05780227]))"
      ]
     },
     "execution_count": 170,
     "metadata": {},
     "output_type": "execute_result"
    },
    {
     "data": {
      "image/png": "[encoded data removed]",
      "text/plain": [
       "<Figure size 432x288 with 1 Axes>"
      ]
     },
     "metadata": {
      "needs_background": "light"
     },
     "output_type": "display_data"
    }
   ],
   "source": [
    "plt.figure(1)\n",
    "plt.scatter(X[0,:],X[1,:])\n",
    "lineline = ransac(X)\n",
    "x = np.linspace(-5.0,5.0,100)\n",
    "A,B,C = lineline\n",
    "y = A*x + C\n",
    "plt.plot(x,y,'r'), lineline"
   ]
  },
  {
   "cell_type": "code",
   "execution_count": 155,
   "metadata": {},
   "outputs": [],
   "source": [
    "def pca_line(x): # assumes x is a (2 x n) array of points\n",
    "    d = np.cov(x)[:, 0]\n",
    "    d /= np.linalg.norm(d)\n",
    "    l = [d[1], -d[0]]\n",
    "    l.append(-(l@x.mean(1)))\n",
    "    return l"
   ]
  },
  {
   "cell_type": "code",
   "execution_count": 157,
   "metadata": {},
   "outputs": [
    {
     "data": {
      "text/plain": [
       "([0.3245838192020715, -0.9458569364931448, 0.11672176305895798],\n",
       " array([ 0.47323281,  1.        , -0.1377798 ]))"
      ]
     },
     "execution_count": 157,
     "metadata": {},
     "output_type": "execute_result"
    }
   ],
   "source": [
    "pca_line(X),lineline"
   ]
  }
 ],
 "metadata": {
  "interpreter": {
   "hash": "94190857a131a20c0a54ceca99f9f1eec6e706f01643e904dfea950cf200f31a"
  },
  "kernelspec": {
   "display_name": "Python 3.8.10 64-bit",
   "language": "python",
   "name": "python3"
  },
  "language_info": {
   "codemirror_mode": {
    "name": "ipython",
    "version": 3
   },
   "file_extension": ".py",
   "mimetype": "text/x-python",
   "name": "python",
   "nbconvert_exporter": "python",
   "pygments_lexer": "ipython3",
   "version": "3.8.10"
  },
  "orig_nbformat": 4
 },
 "nbformat": 4,
 "nbformat_minor": 2
}
