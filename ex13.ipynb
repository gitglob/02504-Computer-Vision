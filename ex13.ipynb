{
 "cells": [
  {
   "cell_type": "code",
   "execution_count": null,
   "metadata": {},
   "outputs": [],
   "source": [
    "import numpy as np\n",
    "import cv2\n",
    "import matplotlib.pyplot as plt\n",
    "import glob\n",
    "# import sys\n",
    "# np.set_printoptions(threshold=sys.maxsize)"
   ]
  },
  {
   "cell_type": "code",
   "execution_count": null,
   "metadata": {},
   "outputs": [],
   "source": [
    "c = np.load('data/casper/calib.npy', allow_pickle=True).item()\n",
    "K0,d0,K1,d1,R,t = c['K0'], c['d0'], c['K1'], c['d1'], c['R'], c['t']"
   ]
  },
  {
   "cell_type": "code",
   "execution_count": null,
   "metadata": {},
   "outputs": [],
   "source": [
    "# 13.1 using checker board? by standard calibration"
   ]
  },
  {
   "cell_type": "code",
   "execution_count": null,
   "metadata": {},
   "outputs": [],
   "source": [
    "# 13.2\n",
    "im0 = cv2.imread(\"data/casper/sequence/frames0_0.png\")\n",
    "size = (im0.shape[1], im0.shape[0])\n",
    "stereo = cv2.stereoRectify(c['K0'], c['d0'], c['K1'],\n",
    "c['d1'], size, c['R'], c['t'], flags=0)\n",
    "R0, R1, P0, P1 = stereo[:4]\n",
    "maps0 = cv2.initUndistortRectifyMap(c['K0'], c['d0'], R0, P0, size, cv2.CV_32FC2)\n",
    "maps1 = cv2.initUndistortRectifyMap(c['K1'], c['d1'], R1, P1, size, cv2.CV_32FC2)\n",
    "rect_img = cv2.remap(im0, *maps0, cv2.INTER_LINEAR)\n",
    "plt.imshow(rect_img)"
   ]
  },
  {
   "cell_type": "code",
   "execution_count": null,
   "metadata": {},
   "outputs": [],
   "source": [
    "ims0_paths = [x for x in glob.glob('data/casper/sequence/frames0*.png')]\n",
    "ims0_paths.sort(key=lambda s: int(s.split('.')[0][-2:].strip('_')))\n",
    "ims1_paths = [x for x in glob.glob('data/casper/sequence/frames1*.png')]\n",
    "ims1_paths.sort(key=lambda s: int(s.split('.')[0][-2:].strip('_')))\n",
    "ims0 = []\n",
    "ims1 = []\n",
    "for (im1,im2) in zip(ims0_paths,ims1_paths):\n",
    "    image = cv2.imread(im1)\n",
    "    image = cv2.cvtColor(image, cv2.COLOR_BGR2GRAY)\n",
    "    image = image.astype(np.float64)\n",
    "    image = cv2.remap(image, *maps0, cv2.INTER_LINEAR)\n",
    "    ims0.append(image)\n",
    "    image = cv2.imread(im2)\n",
    "    image = cv2.cvtColor(image, cv2.COLOR_BGR2GRAY)\n",
    "    image = image.astype(np.float64)\n",
    "    image = cv2.remap(image, *maps1, cv2.INTER_LINEAR)\n",
    "    ims1.append(image)\n",
    "plt.imshow(np.hstack((ims0[2], ims1[2])))"
   ]
  },
  {
   "cell_type": "code",
   "execution_count": null,
   "metadata": {},
   "outputs": [],
   "source": [
    "ims1_paths[:5]"
   ]
  },
  {
   "cell_type": "code",
   "execution_count": null,
   "metadata": {},
   "outputs": [],
   "source": [
    "def unwrap(ims):\n",
    "    primary = ims[2:18]\n",
    "    secondary = ims[18:]\n",
    "    fft_primary =  np.fft.rfft(primary, axis=0)\n",
    "    theta_primary = np.angle(fft_primary[1])\n",
    "    fft_secondary = np.fft.rfft(secondary, axis=0)\n",
    "    theta_secondary = np.angle(fft_secondary[1])\n",
    "    theta_c = np.mod(theta_secondary - theta_primary, 2*np.pi)\n",
    "    print(theta_c.max(), theta_c.min(), (theta_secondary - theta_primary).min(), (theta_secondary - theta_primary).max())\n",
    "    n1 = 40 # given in the description\n",
    "    o_primary = np.round((n1 * theta_c - theta_primary) / (2*np.pi))\n",
    "    theta = np.mod((2*np.pi*o_primary + theta_primary) / n1, 2*np.pi)\n",
    "    return theta\n",
    "plt.imshow(unwrap(ims0)), plt.figure(2), plt.imshow(unwrap(ims1))"
   ]
  },
  {
   "cell_type": "code",
   "execution_count": null,
   "metadata": {},
   "outputs": [],
   "source": [
    "mask0 = ims0[0] - ims0[1] > 20\n",
    "mask1 = ims1[0] - ims1[1] > 20\n",
    "plt.imshow(mask0)\n",
    "plt.figure(2)\n",
    "plt.imshow(mask1)\n",
    "mask0.shape,mask0.sum(),mask0.shape[0]*mask0.shape[1], (mask0==mask1).sum()"
   ]
  },
  {
   "cell_type": "code",
   "execution_count": null,
   "metadata": {},
   "outputs": [],
   "source": [
    "theta0 = unwrap(ims0)\n",
    "theta1 = unwrap(ims1)\n",
    "plt.imshow(theta0)\n",
    "plt.figure(2)\n",
    "plt.imshow(theta1)"
   ]
  },
  {
   "cell_type": "code",
   "execution_count": 118,
   "metadata": {},
   "outputs": [],
   "source": [
    "deltas = []\n",
    "matches0 = []\n",
    "matches1 = []\n",
    "disparity = np.zeros(mask0.shape).astype(np.int32)\n",
    "for i0 in range(200,500):\n",
    "    for j0 in range(mask0.shape[1]):\n",
    "        if not mask0[i0,j0]:\n",
    "            continue\n",
    "        angle = theta0[i0,j0]\n",
    "        minn = np.inf\n",
    "        jcorr = -1\n",
    "        for j1 in range(mask1.shape[1]):\n",
    "            if not mask1[i0,j1]:\n",
    "                continue\n",
    "            if abs(angle-theta1[i0,j1]) < minn:\n",
    "                jcorr = j1\n",
    "            minn = abs(angle-theta1[i0,j1])\n",
    "            if minn < .1:\n",
    "                break\n",
    "        if jcorr != -1 and minn != np.inf and minn < .1:\n",
    "            disparity[i0,j0] = jcorr-j0\n",
    "            matches0.append([j0,i0])\n",
    "            matches1.append([j1,i0])\n",
    "            "
   ]
  },
  {
   "cell_type": "code",
   "execution_count": 119,
   "metadata": {},
   "outputs": [
    {
     "data": {
      "text/plain": [
       "(<matplotlib.image.AxesImage at 0x20b66f3d4c0>, 86.0)"
      ]
     },
     "execution_count": 119,
     "metadata": {},
     "output_type": "execute_result"
    },
    {
     "data": {
      "image/png": "[encoded data removed]",
      "text/plain": [
       "<Figure size 432x288 with 1 Axes>"
      ]
     },
     "metadata": {
      "needs_background": "light"
     },
     "output_type": "display_data"
    }
   ],
   "source": [
    "plt.imshow(cv2.medianBlur(disparity.astype(np.float32), 5)), disparity.astype(np.float32).max()"
   ]
  },
  {
   "cell_type": "code",
   "execution_count": 120,
   "metadata": {},
   "outputs": [],
   "source": [
    "matches0 = np.array(matches0).astype(np.float32).T\n",
    "matches1 = np.array(matches1).astype(np.float32).T\n",
    "triang = cv2.triangulatePoints(P0,P1,matches0,matches1)\n",
    "triang = triang / triang[3]\n",
    "Q = triang[:3]"
   ]
  },
  {
   "cell_type": "code",
   "execution_count": 121,
   "metadata": {},
   "outputs": [
    {
     "data": {
      "text/plain": [
       "(array([-30., -25., -24., ...,  23.,  23.,  23.], dtype=float32), (676, 844))"
      ]
     },
     "execution_count": 121,
     "metadata": {},
     "output_type": "execute_result"
    }
   ],
   "source": [
    "(matches0[:,:] - matches1[:,:])[0,:], mask0.shape"
   ]
  },
  {
   "cell_type": "code",
   "execution_count": 122,
   "metadata": {},
   "outputs": [],
   "source": [
    "import open3d as o3d\n",
    "pcd = o3d.geometry.PointCloud()\n",
    "pcd.points = o3d.utility.Vector3dVector(Q.T)\n",
    "o3d.visualization.draw_geometries([pcd])"
   ]
  },
  {
   "cell_type": "code",
   "execution_count": 123,
   "metadata": {},
   "outputs": [
    {
     "data": {
      "text/plain": [
       "array([913.75128174, 904.66107178, 902.86462402, ..., 825.79492188,\n",
       "       825.79492188, 825.79492188])"
      ]
     },
     "execution_count": 123,
     "metadata": {},
     "output_type": "execute_result"
    }
   ],
   "source": [
    "np.asarray(pcd.points)[:,2]"
   ]
  }
 ],
 "metadata": {
  "interpreter": {
   "hash": "94190857a131a20c0a54ceca99f9f1eec6e706f01643e904dfea950cf200f31a"
  },
  "kernelspec": {
   "display_name": "Python 3.8.10 64-bit",
   "language": "python",
   "name": "python3"
  },
  "language_info": {
   "codemirror_mode": {
    "name": "ipython",
    "version": 3
   },
   "file_extension": ".py",
   "mimetype": "text/x-python",
   "name": "python",
   "nbconvert_exporter": "python",
   "pygments_lexer": "ipython3",
   "version": "3.8.10"
  },
  "orig_nbformat": 4
 },
 "nbformat": 4,
 "nbformat_minor": 2
}
