{
 "cells": [
  {
   "cell_type": "code",
   "execution_count": null,
   "metadata": {},
   "outputs": [],
   "source": [
    "import numpy as np\n",
    "import matplotlib.pyplot as plt\n",
    "\n",
    "def box3d(n):\n",
    "    d_x = d_y = d_z = 1 / n\n",
    "    x0 = y0 = z0 = -0.5\n",
    "    x = np.arange(x0, -x0, d_x, dtype=float)\n",
    "    y = np.arange(y0, -y0, d_y, dtype=float)\n",
    "    z = np.arange(z0, -z0, d_z, dtype=float)\n",
    "    x = np.append(x,0.5)\n",
    "    y = np.append(y,0.5)\n",
    "    z = np.append(z,0.5)\n",
    "    cube = np.stack(np.meshgrid(x, y, z))\n",
    "    # print(cube)\n",
    "    # one = abs(cube[0,:,:,:]) == 0.5\n",
    "    # two = abs(cube[1,:,:,:]) == 0.5\n",
    "    # thr = abs(cube[2,:,:,:]) == 0.5\n",
    "    # w = np.logical_or(one,two)\n",
    "    # w = np.logical_or(w,thr)\n",
    "    # points = cube[:,w].reshape(cube[:,w].shape[1], 3)\n",
    "    # return points # just sides of the cube\n",
    "    return cube.reshape(3,-1) # cube\n",
    "    \n",
    "Q = box3d(10)\n",
    "ax = plt.axes(projection='3d')\n",
    "Q = np.swapaxes(Q,0,1)\n",
    "Q = Q[(abs(Q) == 0.5).sum(axis=1) >= 2]\n",
    "# ax.scatter3D(Q[0,:],Q[1,:],Q[2,:])\n",
    "ones = np.ones(Q.shape[0]).reshape(Q.shape[0],1)\n",
    "Q = np.concatenate((Q,ones),axis=1)\n",
    "ax.scatter3D(Q[:,0],Q[:,1],Q[:,2])"
   ]
  },
  {
   "cell_type": "code",
   "execution_count": null,
   "metadata": {},
   "outputs": [],
   "source": [
    "def projectpoints(K, R, t, Q):\n",
    "    Q.reshape((Q.shape[1],Q.shape[0]))\n",
    "    T = np.concatenate((R,t),axis=1)\n",
    "    # ones = np.ones(Q.shape[0]).reshape(Q.shape[0],1)\n",
    "    # Q = np.concatenate((Q,ones),axis=1)\n",
    "    ppsx = []\n",
    "    ppsy = []\n",
    "    for i in range(Q.shape[0]):\n",
    "        p = Q[i,:]\n",
    "        projected = K @ T @ p.reshape(4,1)\n",
    "        ppsx.append(float(projected[0]/projected[2]))\n",
    "        ppsy.append(float(projected[1]/projected[2]))\n",
    "    return ppsx,ppsy\n",
    "\n",
    "K = R = np.eye(3)\n",
    "theta = np.pi / 6\n",
    "R = np.array([\n",
    "    [np.cos(theta), 0, np.sin(theta)],\n",
    "    [0, 1, 0],\n",
    "    [-np.sin(theta), 0, np.cos(theta)],\n",
    "])\n",
    "t = np.array([[0,0,4]]).T\n",
    "(ppsx,ppsy) = projectpoints(K,R,t,Q)\n",
    "plt.scatter(ppsx, ppsy) # 2D image"
   ]
  }
 ],
 "metadata": {
  "interpreter": {
   "hash": "ace4a3dbf74d617e49a202534aa163bcfa7b54b541c102990f82de38b90aa0f9"
  },
  "kernelspec": {
   "display_name": "Python 3.9.1 64-bit ('venv': venv)",
   "language": "python",
   "name": "python3"
  },
  "language_info": {
   "codemirror_mode": {
    "name": "ipython",
    "version": 3
   },
   "file_extension": ".py",
   "mimetype": "text/x-python",
   "name": "python",
   "nbconvert_exporter": "python",
   "pygments_lexer": "ipython3",
   "version": "3.9.1"
  },
  "orig_nbformat": 4
 },
 "nbformat": 4,
 "nbformat_minor": 2
}
